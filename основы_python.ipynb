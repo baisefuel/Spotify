{
  "cells": [
    {
      "cell_type": "markdown",
      "metadata": {
        "id": "view-in-github",
        "colab_type": "text"
      },
      "source": [
        "<a href=\"https://colab.research.google.com/github/baisefuel/Spotify/blob/main/%D0%BE%D1%81%D0%BD%D0%BE%D0%B2%D1%8B_python.ipynb\" target=\"_parent\"><img src=\"https://colab.research.google.com/assets/colab-badge.svg\" alt=\"Open In Colab\"/></a>"
      ]
    },
    {
      "cell_type": "markdown",
      "metadata": {
        "id": "M-DGa20PaHnu"
      },
      "source": [
        "# Задача 1\n",
        "Написать функцию на вход которой подается строка, состоящая из латинских букв.\n",
        "Функция должна вернуть количество гласных букв (a, e, i, o, u) в этой строке. Написать тесты для кода"
      ]
    },
    {
      "cell_type": "code",
      "execution_count": null,
      "metadata": {
        "id": "XvX8X_JJ6PCb"
      },
      "outputs": [],
      "source": [
        "vowels = {'a', 'e', 'i', 'o', 'u'}\n",
        "\n",
        "def check_vowels(a):\n",
        "    number = 0\n",
        "    for i in a:\n",
        "        if i.lower() in vowels:\n",
        "            number += 1\n",
        "    return number"
      ]
    },
    {
      "cell_type": "markdown",
      "source": [
        "# Тесты\n"
      ],
      "metadata": {
        "id": "eT0nrLQpzCp2"
      }
    },
    {
      "cell_type": "code",
      "source": [
        "import unittest\n",
        "\n",
        "class TestCheckVowels(unittest.TestCase):\n",
        "  def test_checkvowels_one(self):\n",
        "    self.assertEqual(check_vowels(\"\"), 0)\n",
        "\n",
        "  def test_checkvowels_two(self):\n",
        "    self.assertEqual(check_vowels(\"aeiou\"), 5)\n",
        "\n",
        "  def test_checkvowels_three(self):\n",
        "    self.assertEqual(check_vowels(\"EiSoU\"), 4)\n",
        "\n",
        "  def test_checkvowels_four(self):\n",
        "    self.assertEqual(check_vowels(\"UuOoIiAaEe\"), 10)\n",
        "\n",
        "unittest.main(argv=[''], verbosity=2, exit=False)\n"
      ],
      "metadata": {
        "colab": {
          "base_uri": "https://localhost:8080/"
        },
        "id": "gzRkPAQgzGvH",
        "outputId": "235d4518-510f-4682-d582-ef4ea6fbdf15"
      },
      "execution_count": null,
      "outputs": [
        {
          "output_type": "stream",
          "name": "stderr",
          "text": [
            "test_balance_five (__main__.TestBalanceNum.test_balance_five) ... ok\n",
            "test_balance_four (__main__.TestBalanceNum.test_balance_four) ... ok\n",
            "test_balance_one (__main__.TestBalanceNum.test_balance_one) ... ok\n",
            "test_balance_three (__main__.TestBalanceNum.test_balance_three) ... ok\n",
            "test_balance_two (__main__.TestBalanceNum.test_balance_two) ... ok\n",
            "test_bitdivision_five (__main__.TestBitDivision.test_bitdivision_five) ... ok\n",
            "test_bitdivision_four (__main__.TestBitDivision.test_bitdivision_four) ... ok\n",
            "test_bitdivision_one (__main__.TestBitDivision.test_bitdivision_one) ... ok\n",
            "test_bitdivision_three (__main__.TestBitDivision.test_bitdivision_three) ... ok\n",
            "test_bitdivision_two (__main__.TestBitDivision.test_bitdivision_two) ... ok\n",
            "test_sentence_five (__main__.TestCheckSentence.test_sentence_five) ... ok\n",
            "test_sentence_four (__main__.TestCheckSentence.test_sentence_four) ... ok\n",
            "test_sentence_one (__main__.TestCheckSentence.test_sentence_one) ... ok\n",
            "test_sentence_three (__main__.TestCheckSentence.test_sentence_three) ... ok\n",
            "test_sentence_two (__main__.TestCheckSentence.test_sentence_two) ... ok\n",
            "test_checkvowels_four (__main__.TestCheckVowels.test_checkvowels_four) ... ok\n",
            "test_checkvowels_one (__main__.TestCheckVowels.test_checkvowels_one) ... ok\n",
            "test_checkvowels_three (__main__.TestCheckVowels.test_checkvowels_three) ... ok\n",
            "test_checkvowels_two (__main__.TestCheckVowels.test_checkvowels_two) ... ok\n",
            "test_mse_five (__main__.TestMSE.test_mse_five) ... ok\n",
            "test_mse_four (__main__.TestMSE.test_mse_four) ... FAIL\n",
            "test_mse_one (__main__.TestMSE.test_mse_one) ... ok\n",
            "test_mse_three (__main__.TestMSE.test_mse_three) ... ok\n",
            "test_mse_two (__main__.TestMSE.test_mse_two) ... ok\n",
            "test_magic_five (__main__.TestMagic.test_magic_five) ... ok\n",
            "test_magic_four (__main__.TestMagic.test_magic_four) ... ok\n",
            "test_magic_one (__main__.TestMagic.test_magic_one) ... ok\n",
            "test_magic_three (__main__.TestMagic.test_magic_three) ... ok\n",
            "test_magic_two (__main__.TestMagic.test_magic_two) ... ok\n",
            "test_pyramid_five (__main__.TestPyramid.test_pyramid_five) ... ok\n",
            "test_pyramid_four (__main__.TestPyramid.test_pyramid_four) ... ok\n",
            "test_pyramid_one (__main__.TestPyramid.test_pyramid_one) ... ok\n",
            "test_pyramid_three (__main__.TestPyramid.test_pyramid_three) ... ok\n",
            "test_pyramid_two (__main__.TestPyramid.test_pyramid_two) ... ok\n",
            "test_simple_five (__main__.TestSimple.test_simple_five) ... ok\n",
            "test_simple_four (__main__.TestSimple.test_simple_four) ... ok\n",
            "test_simple_one (__main__.TestSimple.test_simple_one) ... ok\n",
            "test_simple_three (__main__.TestSimple.test_simple_three) ... ok\n",
            "test_simple_two (__main__.TestSimple.test_simple_two) ... ok\n",
            "\n",
            "======================================================================\n",
            "FAIL: test_mse_four (__main__.TestMSE.test_mse_four)\n",
            "----------------------------------------------------------------------\n",
            "Traceback (most recent call last):\n",
            "  File \"<ipython-input-55-2927d30b2fbf>\", line 12, in test_mse_four\n",
            "    self.assertEqual(mse([-1, -2, -3], [1, 2, 3]), 16.0)\n",
            "AssertionError: 18.666666666666668 != 16.0\n",
            "\n",
            "----------------------------------------------------------------------\n",
            "Ran 39 tests in 0.092s\n",
            "\n",
            "FAILED (failures=1)\n"
          ]
        },
        {
          "output_type": "execute_result",
          "data": {
            "text/plain": [
              "<unittest.main.TestProgram at 0x7dfc3c1eb810>"
            ]
          },
          "metadata": {},
          "execution_count": 63
        }
      ]
    },
    {
      "cell_type": "markdown",
      "metadata": {
        "id": "t2ClV_Y0bbr6"
      },
      "source": [
        "# Задача 2\n",
        "Написать функцию на вход, которой подается строка. Функция должна вернуть true, если\n",
        "каждый символ в строке встречается только 1 раз, иначе должна вернуть false. Написать тесты для кода"
      ]
    },
    {
      "cell_type": "code",
      "execution_count": null,
      "metadata": {
        "id": "FppbECao6VIz"
      },
      "outputs": [],
      "source": [
        "def check_sentence(a):\n",
        "  let_set = set()\n",
        "  for i in a:\n",
        "    let_set.add(i)\n",
        "  return len(let_set) == len(a)"
      ]
    },
    {
      "cell_type": "markdown",
      "source": [
        "# Тесты"
      ],
      "metadata": {
        "id": "4Gg2IXj_9PRk"
      }
    },
    {
      "cell_type": "code",
      "source": [
        "class TestCheckSentence(unittest.TestCase):\n",
        "  def test_sentence_one(self):\n",
        "    self.assertEqual(check_sentence(\"asdfghjklzxcvbnm\"), True)\n",
        "\n",
        "  def test_sentence_two(self):\n",
        "    self.assertEqual(check_sentence(\"\"), True)\n",
        "\n",
        "  def test_sentence_three(self):\n",
        "    self.assertEqual(check_sentence(\"pap\"), False)\n",
        "\n",
        "  def test_sentence_four(self):\n",
        "    self.assertEqual(check_sentence(\"dddddddddddddd\"), False)\n",
        "\n",
        "  def test_sentence_five(self):\n",
        "    self.assertEqual(check_sentence(\"aA\"), True)\n",
        "\n",
        "unittest.main(argv=[''], verbosity=2, exit=False)"
      ],
      "metadata": {
        "colab": {
          "base_uri": "https://localhost:8080/"
        },
        "id": "72wJkOnf9O_S",
        "outputId": "6588a67e-679a-45ed-e63d-3771ced740bf"
      },
      "execution_count": null,
      "outputs": [
        {
          "output_type": "stream",
          "name": "stderr",
          "text": [
            "test_balance_five (__main__.TestBalanceNum.test_balance_five) ... ok\n",
            "test_balance_four (__main__.TestBalanceNum.test_balance_four) ... ok\n",
            "test_balance_one (__main__.TestBalanceNum.test_balance_one) ... ok\n",
            "test_balance_three (__main__.TestBalanceNum.test_balance_three) ... ok\n",
            "test_balance_two (__main__.TestBalanceNum.test_balance_two) ... ok\n",
            "test_bitdivision_five (__main__.TestBitDivision.test_bitdivision_five) ... ok\n",
            "test_bitdivision_four (__main__.TestBitDivision.test_bitdivision_four) ... ok\n",
            "test_bitdivision_one (__main__.TestBitDivision.test_bitdivision_one) ... ok\n",
            "test_bitdivision_three (__main__.TestBitDivision.test_bitdivision_three) ... ok\n",
            "test_bitdivision_two (__main__.TestBitDivision.test_bitdivision_two) ... ok\n",
            "test_sentence_five (__main__.TestCheckSentence.test_sentence_five) ... ok\n",
            "test_sentence_four (__main__.TestCheckSentence.test_sentence_four) ... ok\n",
            "test_sentence_one (__main__.TestCheckSentence.test_sentence_one) ... ok\n",
            "test_sentence_three (__main__.TestCheckSentence.test_sentence_three) ... ok\n",
            "test_sentence_two (__main__.TestCheckSentence.test_sentence_two) ... ok\n",
            "test_checkvowels_four (__main__.TestCheckVowels.test_checkvowels_four) ... ok\n",
            "test_checkvowels_one (__main__.TestCheckVowels.test_checkvowels_one) ... ok\n",
            "test_checkvowels_three (__main__.TestCheckVowels.test_checkvowels_three) ... ok\n",
            "test_checkvowels_two (__main__.TestCheckVowels.test_checkvowels_two) ... ok\n",
            "test_mse_five (__main__.TestMSE.test_mse_five) ... ok\n",
            "test_mse_four (__main__.TestMSE.test_mse_four) ... FAIL\n",
            "test_mse_one (__main__.TestMSE.test_mse_one) ... ok\n",
            "test_mse_three (__main__.TestMSE.test_mse_three) ... ok\n",
            "test_mse_two (__main__.TestMSE.test_mse_two) ... ok\n",
            "test_magic_five (__main__.TestMagic.test_magic_five) ... ok\n",
            "test_magic_four (__main__.TestMagic.test_magic_four) ... ok\n",
            "test_magic_one (__main__.TestMagic.test_magic_one) ... ok\n",
            "test_magic_three (__main__.TestMagic.test_magic_three) ... ok\n",
            "test_magic_two (__main__.TestMagic.test_magic_two) ... ok\n",
            "test_pyramid_five (__main__.TestPyramid.test_pyramid_five) ... ok\n",
            "test_pyramid_four (__main__.TestPyramid.test_pyramid_four) ... ok\n",
            "test_pyramid_one (__main__.TestPyramid.test_pyramid_one) ... ok\n",
            "test_pyramid_three (__main__.TestPyramid.test_pyramid_three) ... ok\n",
            "test_pyramid_two (__main__.TestPyramid.test_pyramid_two) ... ok\n",
            "test_simple_five (__main__.TestSimple.test_simple_five) ... ok\n",
            "test_simple_four (__main__.TestSimple.test_simple_four) ... ok\n",
            "test_simple_one (__main__.TestSimple.test_simple_one) ... ok\n",
            "test_simple_three (__main__.TestSimple.test_simple_three) ... ok\n",
            "test_simple_two (__main__.TestSimple.test_simple_two) ... ok\n",
            "\n",
            "======================================================================\n",
            "FAIL: test_mse_four (__main__.TestMSE.test_mse_four)\n",
            "----------------------------------------------------------------------\n",
            "Traceback (most recent call last):\n",
            "  File \"<ipython-input-55-2927d30b2fbf>\", line 12, in test_mse_four\n",
            "    self.assertEqual(mse([-1, -2, -3], [1, 2, 3]), 16.0)\n",
            "AssertionError: 18.666666666666668 != 16.0\n",
            "\n",
            "----------------------------------------------------------------------\n",
            "Ran 39 tests in 0.088s\n",
            "\n",
            "FAILED (failures=1)\n"
          ]
        },
        {
          "output_type": "execute_result",
          "data": {
            "text/plain": [
              "<unittest.main.TestProgram at 0x7dfc03b8a810>"
            ]
          },
          "metadata": {},
          "execution_count": 65
        }
      ]
    },
    {
      "cell_type": "markdown",
      "metadata": {
        "id": "udRiIK1cdt6E"
      },
      "source": [
        "# Задача 3\n",
        "Написать функцию, которая принимает положительное число и возвращает количество\n",
        "бит равных 1 в этом числе. Написать тесты для кода"
      ]
    },
    {
      "cell_type": "code",
      "execution_count": null,
      "metadata": {
        "id": "6tkfDJRz6dp_"
      },
      "outputs": [],
      "source": [
        "def bit_division(a):\n",
        "  number = 0\n",
        "  while(a > 0):\n",
        "    number += a % 2\n",
        "    a = a // 2\n",
        "  return number"
      ]
    },
    {
      "cell_type": "markdown",
      "source": [
        "# Тесты"
      ],
      "metadata": {
        "id": "jAJXIpdTTLMf"
      }
    },
    {
      "cell_type": "code",
      "source": [
        "class TestBitDivision(unittest.TestCase):\n",
        "  def test_bitdivision_one(self):\n",
        "    self.assertEqual(bit_division(32), 1)\n",
        "\n",
        "  def test_bitdivision_two(self):\n",
        "    self.assertEqual(bit_division(0), 0)\n",
        "\n",
        "  def test_bitdivision_three(self):\n",
        "    self.assertEqual(bit_division(20), 2)\n",
        "\n",
        "  def test_bitdivision_four(self):\n",
        "    self.assertEqual(bit_division(1), 1)\n",
        "\n",
        "  def test_bitdivision_five(self):\n",
        "    self.assertEqual(bit_division(1829), 6)\n",
        "\n",
        "unittest.main(argv=[''], verbosity=2, exit=False)"
      ],
      "metadata": {
        "id": "65vgQsrOTepr",
        "colab": {
          "base_uri": "https://localhost:8080/"
        },
        "outputId": "d06697f9-4b39-47b9-a924-254b17354516"
      },
      "execution_count": null,
      "outputs": [
        {
          "output_type": "stream",
          "name": "stderr",
          "text": [
            "test_balance_five (__main__.TestBalanceNum.test_balance_five) ... ok\n",
            "test_balance_four (__main__.TestBalanceNum.test_balance_four) ... ok\n",
            "test_balance_one (__main__.TestBalanceNum.test_balance_one) ... ok\n",
            "test_balance_three (__main__.TestBalanceNum.test_balance_three) ... ok\n",
            "test_balance_two (__main__.TestBalanceNum.test_balance_two) ... ok\n",
            "test_bitdivision_five (__main__.TestBitDivision.test_bitdivision_five) ... ok\n",
            "test_bitdivision_four (__main__.TestBitDivision.test_bitdivision_four) ... ok\n",
            "test_bitdivision_one (__main__.TestBitDivision.test_bitdivision_one) ... ok\n",
            "test_bitdivision_three (__main__.TestBitDivision.test_bitdivision_three) ... ok\n",
            "test_bitdivision_two (__main__.TestBitDivision.test_bitdivision_two) ... ok\n",
            "test_sentence_five (__main__.TestCheckSentence.test_sentence_five) ... ok\n",
            "test_sentence_four (__main__.TestCheckSentence.test_sentence_four) ... ok\n",
            "test_sentence_one (__main__.TestCheckSentence.test_sentence_one) ... ok\n",
            "test_sentence_three (__main__.TestCheckSentence.test_sentence_three) ... ok\n",
            "test_sentence_two (__main__.TestCheckSentence.test_sentence_two) ... ok\n",
            "test_checkvowels_four (__main__.TestCheckVowels.test_checkvowels_four) ... ok\n",
            "test_checkvowels_one (__main__.TestCheckVowels.test_checkvowels_one) ... ok\n",
            "test_checkvowels_three (__main__.TestCheckVowels.test_checkvowels_three) ... ok\n",
            "test_checkvowels_two (__main__.TestCheckVowels.test_checkvowels_two) ... ok\n",
            "test_mse_five (__main__.TestMSE.test_mse_five) ... ok\n",
            "test_mse_four (__main__.TestMSE.test_mse_four) ... FAIL\n",
            "test_mse_one (__main__.TestMSE.test_mse_one) ... ok\n",
            "test_mse_three (__main__.TestMSE.test_mse_three) ... ok\n",
            "test_mse_two (__main__.TestMSE.test_mse_two) ... ok\n",
            "test_magic_five (__main__.TestMagic.test_magic_five) ... ok\n",
            "test_magic_four (__main__.TestMagic.test_magic_four) ... ok\n",
            "test_magic_one (__main__.TestMagic.test_magic_one) ... ok\n",
            "test_magic_three (__main__.TestMagic.test_magic_three) ... ok\n",
            "test_magic_two (__main__.TestMagic.test_magic_two) ... ok\n",
            "test_pyramid_five (__main__.TestPyramid.test_pyramid_five) ... ok\n",
            "test_pyramid_four (__main__.TestPyramid.test_pyramid_four) ... ok\n",
            "test_pyramid_one (__main__.TestPyramid.test_pyramid_one) ... ok\n",
            "test_pyramid_three (__main__.TestPyramid.test_pyramid_three) ... ok\n",
            "test_pyramid_two (__main__.TestPyramid.test_pyramid_two) ... ok\n",
            "test_simple_five (__main__.TestSimple.test_simple_five) ... ok\n",
            "test_simple_four (__main__.TestSimple.test_simple_four) ... ok\n",
            "test_simple_one (__main__.TestSimple.test_simple_one) ... ok\n",
            "test_simple_three (__main__.TestSimple.test_simple_three) ... ok\n",
            "test_simple_two (__main__.TestSimple.test_simple_two) ... ok\n",
            "\n",
            "======================================================================\n",
            "FAIL: test_mse_four (__main__.TestMSE.test_mse_four)\n",
            "----------------------------------------------------------------------\n",
            "Traceback (most recent call last):\n",
            "  File \"<ipython-input-55-2927d30b2fbf>\", line 12, in test_mse_four\n",
            "    self.assertEqual(mse([-1, -2, -3], [1, 2, 3]), 16.0)\n",
            "AssertionError: 18.666666666666668 != 16.0\n",
            "\n",
            "----------------------------------------------------------------------\n",
            "Ran 39 tests in 0.095s\n",
            "\n",
            "FAILED (failures=1)\n"
          ]
        },
        {
          "output_type": "execute_result",
          "data": {
            "text/plain": [
              "<unittest.main.TestProgram at 0x7dfc3c10db50>"
            ]
          },
          "metadata": {},
          "execution_count": 67
        }
      ]
    },
    {
      "cell_type": "markdown",
      "metadata": {
        "id": "26dDUz-Ae17N"
      },
      "source": [
        "# Задача 4\n",
        "Написать функцию, которая принимает положительное число. Функция должна вернуть то,\n",
        "сколько раз необходимо перемножать цифры числа или результат перемножения, чтобы\n",
        "получилось число состоящее из одной цифры.\n",
        "Например, для входного числа:\n",
        "· 39 функция должна вернуть 3, так как 3*9=27 => 2*7=14 => 1*4=4\n",
        "· 4 функция должна вернуть 0, так как число уже состоит из одной цифры\n",
        "· 999 функция должна вернуть 4, так как 9*9*9=729 => 7*2*9=126 => 1*2*6=12 =>\n",
        "1*2=2. Написать тесты для кода"
      ]
    },
    {
      "cell_type": "code",
      "execution_count": null,
      "metadata": {
        "id": "BH1A_Mgi6i4G"
      },
      "outputs": [],
      "source": [
        "def magic(n):\n",
        "  x = [int(a) for a in str(n)]\n",
        "  counter = 0\n",
        "  while len(x) > 1:\n",
        "    n = 1\n",
        "    for i in x:\n",
        "      n *= i\n",
        "    counter += 1\n",
        "    x = [int(a) for a in str(n)]\n",
        "  return counter"
      ]
    },
    {
      "cell_type": "markdown",
      "source": [
        "# Тесты"
      ],
      "metadata": {
        "id": "KhTK8eSEtQM5"
      }
    },
    {
      "cell_type": "code",
      "source": [
        "class TestMagic(unittest.TestCase):\n",
        "  def test_magic_one(self):\n",
        "    self.assertEqual(magic(32), 1)\n",
        "\n",
        "  def test_magic_two(self):\n",
        "    self.assertEqual(magic(0), 0)\n",
        "\n",
        "  def test_magic_three(self):\n",
        "    self.assertEqual(magic(1), 0)\n",
        "\n",
        "  def test_magic_four(self):\n",
        "    self.assertEqual(magic(222222222222222222), 6)\n",
        "\n",
        "  def test_magic_five(self):\n",
        "    self.assertEqual(magic(5324235230), 1)\n",
        "\n",
        "unittest.main(argv=[''], verbosity=2, exit=False)"
      ],
      "metadata": {
        "colab": {
          "base_uri": "https://localhost:8080/"
        },
        "id": "0SNv2sGLtRs2",
        "outputId": "1fa88089-3f74-4cfd-cba3-d8e5e82c4695"
      },
      "execution_count": null,
      "outputs": [
        {
          "output_type": "stream",
          "name": "stderr",
          "text": [
            "test_balance_five (__main__.TestBalanceNum.test_balance_five) ... ok\n",
            "test_balance_four (__main__.TestBalanceNum.test_balance_four) ... ok\n",
            "test_balance_one (__main__.TestBalanceNum.test_balance_one) ... ok\n",
            "test_balance_three (__main__.TestBalanceNum.test_balance_three) ... ok\n",
            "test_balance_two (__main__.TestBalanceNum.test_balance_two) ... ok\n",
            "test_bitdivision_five (__main__.TestBitDivision.test_bitdivision_five) ... ok\n",
            "test_bitdivision_four (__main__.TestBitDivision.test_bitdivision_four) ... ok\n",
            "test_bitdivision_one (__main__.TestBitDivision.test_bitdivision_one) ... ok\n",
            "test_bitdivision_three (__main__.TestBitDivision.test_bitdivision_three) ... ok\n",
            "test_bitdivision_two (__main__.TestBitDivision.test_bitdivision_two) ... ok\n",
            "test_sentence_five (__main__.TestCheckSentence.test_sentence_five) ... ok\n",
            "test_sentence_four (__main__.TestCheckSentence.test_sentence_four) ... ok\n",
            "test_sentence_one (__main__.TestCheckSentence.test_sentence_one) ... ok\n",
            "test_sentence_three (__main__.TestCheckSentence.test_sentence_three) ... ok\n",
            "test_sentence_two (__main__.TestCheckSentence.test_sentence_two) ... ok\n",
            "test_checkvowels_four (__main__.TestCheckVowels.test_checkvowels_four) ... ok\n",
            "test_checkvowels_one (__main__.TestCheckVowels.test_checkvowels_one) ... ok\n",
            "test_checkvowels_three (__main__.TestCheckVowels.test_checkvowels_three) ... ok\n",
            "test_checkvowels_two (__main__.TestCheckVowels.test_checkvowels_two) ... ok\n",
            "test_mse_five (__main__.TestMSE.test_mse_five) ... ok\n",
            "test_mse_four (__main__.TestMSE.test_mse_four) ... FAIL\n",
            "test_mse_one (__main__.TestMSE.test_mse_one) ... ok\n",
            "test_mse_three (__main__.TestMSE.test_mse_three) ... ok\n",
            "test_mse_two (__main__.TestMSE.test_mse_two) ... ok\n",
            "test_magic_five (__main__.TestMagic.test_magic_five) ... ok\n",
            "test_magic_four (__main__.TestMagic.test_magic_four) ... ok\n",
            "test_magic_one (__main__.TestMagic.test_magic_one) ... ok\n",
            "test_magic_three (__main__.TestMagic.test_magic_three) ... ok\n",
            "test_magic_two (__main__.TestMagic.test_magic_two) ... ok\n",
            "test_pyramid_five (__main__.TestPyramid.test_pyramid_five) ... ok\n",
            "test_pyramid_four (__main__.TestPyramid.test_pyramid_four) ... ok\n",
            "test_pyramid_one (__main__.TestPyramid.test_pyramid_one) ... ok\n",
            "test_pyramid_three (__main__.TestPyramid.test_pyramid_three) ... ok\n",
            "test_pyramid_two (__main__.TestPyramid.test_pyramid_two) ... ok\n",
            "test_simple_five (__main__.TestSimple.test_simple_five) ... ok\n",
            "test_simple_four (__main__.TestSimple.test_simple_four) ... ok\n",
            "test_simple_one (__main__.TestSimple.test_simple_one) ... ok\n",
            "test_simple_three (__main__.TestSimple.test_simple_three) ... ok\n",
            "test_simple_two (__main__.TestSimple.test_simple_two) ... ok\n",
            "\n",
            "======================================================================\n",
            "FAIL: test_mse_four (__main__.TestMSE.test_mse_four)\n",
            "----------------------------------------------------------------------\n",
            "Traceback (most recent call last):\n",
            "  File \"<ipython-input-55-2927d30b2fbf>\", line 12, in test_mse_four\n",
            "    self.assertEqual(mse([-1, -2, -3], [1, 2, 3]), 16.0)\n",
            "AssertionError: 18.666666666666668 != 16.0\n",
            "\n",
            "----------------------------------------------------------------------\n",
            "Ran 39 tests in 0.105s\n",
            "\n",
            "FAILED (failures=1)\n"
          ]
        },
        {
          "output_type": "execute_result",
          "data": {
            "text/plain": [
              "<unittest.main.TestProgram at 0x7dfc03ba3c10>"
            ]
          },
          "metadata": {},
          "execution_count": 69
        }
      ]
    },
    {
      "cell_type": "markdown",
      "metadata": {
        "id": "0nS-kIa8g8vd"
      },
      "source": [
        "# Задача 5\n",
        "Написать функцию, которая принимает два целочисленных вектора одинаковой длины и\n",
        "возвращает среднеквадратическое отклонение двух векторов. Написать тесты для кода"
      ]
    },
    {
      "cell_type": "code",
      "execution_count": null,
      "metadata": {
        "id": "8iphx4LM6xbx"
      },
      "outputs": [],
      "source": [
        "def mse(pred, true):\n",
        "  total = 0\n",
        "  if len(pred) != len(true):\n",
        "    return \"Векторы разной длины\"\n",
        "  for x, y in zip(pred, true):\n",
        "    total += (x - y) ** 2\n",
        "  result = total / len(pred)\n",
        "  return result"
      ]
    },
    {
      "cell_type": "markdown",
      "source": [
        "# Тесты"
      ],
      "metadata": {
        "id": "9K0m5dPe5_1g"
      }
    },
    {
      "cell_type": "code",
      "source": [
        "class TestMSE(unittest.TestCase):\n",
        "  def test_mse_one(self):\n",
        "    self.assertEqual(mse([1, 2, 3], [1, 2, 3]), 0.0)\n",
        "\n",
        "  def test_mse_two(self):\n",
        "    self.assertEqual(mse([0, 0, 0], [1, 1, 1]), 1.0)\n",
        "\n",
        "  def test_mse_three(self):\n",
        "    self.assertEqual(mse([2, 4, 6], [1, 3, 5]), 1.0)\n",
        "\n",
        "  def test_mse_four(self):\n",
        "    self.assertEqual(mse([1, 2], [1, 2, 3]), \"Векторы разной длины\")\n",
        "\n",
        "unittest.main(argv=[''], verbosity=2, exit=False)\n"
      ],
      "metadata": {
        "colab": {
          "base_uri": "https://localhost:8080/"
        },
        "id": "JnPttgEG6CkP",
        "outputId": "705ab899-ab62-449b-b1a7-6bacb22dbce4"
      },
      "execution_count": null,
      "outputs": [
        {
          "output_type": "stream",
          "name": "stderr",
          "text": [
            "test_balance_five (__main__.TestBalanceNum.test_balance_five) ... ok\n",
            "test_balance_four (__main__.TestBalanceNum.test_balance_four) ... ok\n",
            "test_balance_one (__main__.TestBalanceNum.test_balance_one) ... ok\n",
            "test_balance_three (__main__.TestBalanceNum.test_balance_three) ... ok\n",
            "test_balance_two (__main__.TestBalanceNum.test_balance_two) ... ok\n",
            "test_bitdivision_five (__main__.TestBitDivision.test_bitdivision_five) ... ok\n",
            "test_bitdivision_four (__main__.TestBitDivision.test_bitdivision_four) ... ok\n",
            "test_bitdivision_one (__main__.TestBitDivision.test_bitdivision_one) ... ok\n",
            "test_bitdivision_three (__main__.TestBitDivision.test_bitdivision_three) ... ok\n",
            "test_bitdivision_two (__main__.TestBitDivision.test_bitdivision_two) ... ok\n",
            "test_sentence_five (__main__.TestCheckSentence.test_sentence_five) ... ok\n",
            "test_sentence_four (__main__.TestCheckSentence.test_sentence_four) ... ok\n",
            "test_sentence_one (__main__.TestCheckSentence.test_sentence_one) ... ok\n",
            "test_sentence_three (__main__.TestCheckSentence.test_sentence_three) ... ok\n",
            "test_sentence_two (__main__.TestCheckSentence.test_sentence_two) ... ok\n",
            "test_checkvowels_four (__main__.TestCheckVowels.test_checkvowels_four) ... ok\n",
            "test_checkvowels_one (__main__.TestCheckVowels.test_checkvowels_one) ... ok\n",
            "test_checkvowels_three (__main__.TestCheckVowels.test_checkvowels_three) ... ok\n",
            "test_checkvowels_two (__main__.TestCheckVowels.test_checkvowels_two) ... ok\n",
            "test_mse_four (__main__.TestMSE.test_mse_four) ... ok\n",
            "test_mse_one (__main__.TestMSE.test_mse_one) ... ok\n",
            "test_mse_three (__main__.TestMSE.test_mse_three) ... ok\n",
            "test_mse_two (__main__.TestMSE.test_mse_two) ... ok\n",
            "test_magic_five (__main__.TestMagic.test_magic_five) ... ok\n",
            "test_magic_four (__main__.TestMagic.test_magic_four) ... ok\n",
            "test_magic_one (__main__.TestMagic.test_magic_one) ... ok\n",
            "test_magic_three (__main__.TestMagic.test_magic_three) ... ok\n",
            "test_magic_two (__main__.TestMagic.test_magic_two) ... ok\n",
            "test_pyramid_five (__main__.TestPyramid.test_pyramid_five) ... ok\n",
            "test_pyramid_four (__main__.TestPyramid.test_pyramid_four) ... ok\n",
            "test_pyramid_one (__main__.TestPyramid.test_pyramid_one) ... ok\n",
            "test_pyramid_three (__main__.TestPyramid.test_pyramid_three) ... ok\n",
            "test_pyramid_two (__main__.TestPyramid.test_pyramid_two) ... ok\n",
            "test_simple_five (__main__.TestSimple.test_simple_five) ... ok\n",
            "test_simple_four (__main__.TestSimple.test_simple_four) ... ok\n",
            "test_simple_one (__main__.TestSimple.test_simple_one) ... ok\n",
            "test_simple_three (__main__.TestSimple.test_simple_three) ... ok\n",
            "test_simple_two (__main__.TestSimple.test_simple_two) ... ok\n",
            "\n",
            "----------------------------------------------------------------------\n",
            "Ran 38 tests in 0.108s\n",
            "\n",
            "OK\n"
          ]
        },
        {
          "output_type": "execute_result",
          "data": {
            "text/plain": [
              "<unittest.main.TestProgram at 0x7dfc03bbc790>"
            ]
          },
          "metadata": {},
          "execution_count": 71
        }
      ]
    },
    {
      "cell_type": "markdown",
      "metadata": {
        "id": "vpIPKL439zkw"
      },
      "source": [
        "# Задача 6\n",
        "Написать функцию, принимающая целое положительное число. Функция должна вернуть\n",
        "строку вида “(n1**p1)(n2**p2)…(nk**pk)” представляющая разложение числа на простые\n",
        "множители (если pi == 1, то выводить только ni).\n",
        "Например, для числа 86240 функция должна вернуть “(2**5)(5)(7**2)(11)”. Написать тесты для кода"
      ]
    },
    {
      "cell_type": "code",
      "execution_count": null,
      "metadata": {
        "id": "pFebmcZk94Jw"
      },
      "outputs": [],
      "source": [
        "import math\n",
        "\n",
        "def simple(num):\n",
        "  if num < 2:\n",
        "    return \"(\" + str(num) + \")\"\n",
        "\n",
        "  simp_numbers = []\n",
        "  pn_dict = dict()\n",
        "  a = 1\n",
        "  copy = num\n",
        "  square_root = math.sqrt(num)\n",
        "\n",
        "  for i in range(2, int(square_root) + 1):\n",
        "    is_simple = True\n",
        "    if num % i == 0:\n",
        "      is_simple = False\n",
        "      break\n",
        "  if is_simple == True:\n",
        "    return \"(\" + str(num) + \")\"\n",
        "\n",
        "  for x in range(2, int(square_root) + 1):\n",
        "    is_simple = True\n",
        "    for y in range(2, int(math.sqrt(x)) + 1):\n",
        "      if x % y == 0:\n",
        "        is_simple = False\n",
        "        break\n",
        "    if is_simple == True:\n",
        "      simp_numbers.append(x)\n",
        "\n",
        "  i = 0\n",
        "  while (copy != 1) and (i < len(simp_numbers)):\n",
        "    if copy % simp_numbers[i] == 0:\n",
        "      if simp_numbers[i] not in pn_dict:\n",
        "        pn_dict[simp_numbers[i]] = 1\n",
        "      else:\n",
        "        pn_dict[simp_numbers[i]] += 1\n",
        "      copy = int(copy / simp_numbers[i])\n",
        "    else:\n",
        "      i += 1\n",
        "  if copy > 1:\n",
        "    pn_dict[copy] = 1\n",
        "  result = ''\n",
        "\n",
        "  for n,p in pn_dict.items():\n",
        "    result += ('(' + str(n))\n",
        "    if p != 1:\n",
        "      result += '**' + str(p)\n",
        "    result += ')'\n",
        "  return result"
      ]
    },
    {
      "cell_type": "markdown",
      "source": [
        "# Тесты"
      ],
      "metadata": {
        "id": "ZAHu0lasO6Iu"
      }
    },
    {
      "cell_type": "code",
      "source": [
        "class TestSimple(unittest.TestCase):\n",
        "  def test_simple_one(self):\n",
        "    self.assertEqual(simple(7), \"(7)\")\n",
        "\n",
        "  def test_simple_two(self):\n",
        "    self.assertEqual(simple(86240), \"(2**5)(5)(7**2)(11)\")\n",
        "\n",
        "  def test_simple_three(self):\n",
        "    self.assertEqual(simple(532532532), \"(2**2)(3)(7)(19)(333667)\")\n",
        "\n",
        "  def test_simple_four(self):\n",
        "    self.assertEqual(simple(2048), \"(2**11)\")\n",
        "\n",
        "  def test_simple_five(self):\n",
        "    self.assertEqual(simple(1), \"(1)\")\n",
        "\n",
        "unittest.main(argv=[''], verbosity=2, exit=False)"
      ],
      "metadata": {
        "colab": {
          "base_uri": "https://localhost:8080/"
        },
        "id": "J-j17MIrO5v-",
        "outputId": "8c99b57d-b571-4240-c598-975c95ef2919"
      },
      "execution_count": null,
      "outputs": [
        {
          "output_type": "stream",
          "name": "stderr",
          "text": [
            "test_balance_five (__main__.TestBalanceNum.test_balance_five) ... ok\n",
            "test_balance_four (__main__.TestBalanceNum.test_balance_four) ... ok\n",
            "test_balance_one (__main__.TestBalanceNum.test_balance_one) ... ok\n",
            "test_balance_three (__main__.TestBalanceNum.test_balance_three) ... ok\n",
            "test_balance_two (__main__.TestBalanceNum.test_balance_two) ... ok\n",
            "test_bitdivision_five (__main__.TestBitDivision.test_bitdivision_five) ... ok\n",
            "test_bitdivision_four (__main__.TestBitDivision.test_bitdivision_four) ... ok\n",
            "test_bitdivision_one (__main__.TestBitDivision.test_bitdivision_one) ... ok\n",
            "test_bitdivision_three (__main__.TestBitDivision.test_bitdivision_three) ... ok\n",
            "test_bitdivision_two (__main__.TestBitDivision.test_bitdivision_two) ... ok\n",
            "test_sentence_five (__main__.TestCheckSentence.test_sentence_five) ... ok\n",
            "test_sentence_four (__main__.TestCheckSentence.test_sentence_four) ... ok\n",
            "test_sentence_one (__main__.TestCheckSentence.test_sentence_one) ... ok\n",
            "test_sentence_three (__main__.TestCheckSentence.test_sentence_three) ... ok\n",
            "test_sentence_two (__main__.TestCheckSentence.test_sentence_two) ... ok\n",
            "test_checkvowels_four (__main__.TestCheckVowels.test_checkvowels_four) ... ok\n",
            "test_checkvowels_one (__main__.TestCheckVowels.test_checkvowels_one) ... ok\n",
            "test_checkvowels_three (__main__.TestCheckVowels.test_checkvowels_three) ... ok\n",
            "test_checkvowels_two (__main__.TestCheckVowels.test_checkvowels_two) ... ok\n",
            "test_mse_four (__main__.TestMSE.test_mse_four) ... ok\n",
            "test_mse_one (__main__.TestMSE.test_mse_one) ... ok\n",
            "test_mse_three (__main__.TestMSE.test_mse_three) ... ok\n",
            "test_mse_two (__main__.TestMSE.test_mse_two) ... ok\n",
            "test_magic_five (__main__.TestMagic.test_magic_five) ... ok\n",
            "test_magic_four (__main__.TestMagic.test_magic_four) ... ok\n",
            "test_magic_one (__main__.TestMagic.test_magic_one) ... ok\n",
            "test_magic_three (__main__.TestMagic.test_magic_three) ... ok\n",
            "test_magic_two (__main__.TestMagic.test_magic_two) ... ok\n",
            "test_pyramid_five (__main__.TestPyramid.test_pyramid_five) ... ok\n",
            "test_pyramid_four (__main__.TestPyramid.test_pyramid_four) ... ok\n",
            "test_pyramid_one (__main__.TestPyramid.test_pyramid_one) ... ok\n",
            "test_pyramid_three (__main__.TestPyramid.test_pyramid_three) ... ok\n",
            "test_pyramid_two (__main__.TestPyramid.test_pyramid_two) ... ok\n",
            "test_simple_five (__main__.TestSimple.test_simple_five) ... ok\n",
            "test_simple_four (__main__.TestSimple.test_simple_four) ... ok\n",
            "test_simple_one (__main__.TestSimple.test_simple_one) ... ok\n",
            "test_simple_three (__main__.TestSimple.test_simple_three) ... ok\n",
            "test_simple_two (__main__.TestSimple.test_simple_two) ... ok\n",
            "\n",
            "----------------------------------------------------------------------\n",
            "Ran 38 tests in 0.112s\n",
            "\n",
            "OK\n"
          ]
        },
        {
          "output_type": "execute_result",
          "data": {
            "text/plain": [
              "<unittest.main.TestProgram at 0x7dfc03bc4890>"
            ]
          },
          "metadata": {},
          "execution_count": 73
        }
      ]
    },
    {
      "cell_type": "markdown",
      "metadata": {
        "id": "ps2s0BudX7A2"
      },
      "source": [
        "# Задача 7\n",
        "Написать функцию, принимающая целое число n, задающее количество кубиков. Функция\n",
        "должна определить, можно ли из данного кол-ва кубиков построить пирамиду, то есть\n",
        "можно ли представить число n как 1^2+2^2+3^2+…+k^2. Если можно, то функция должна\n",
        "вернуть k, иначе строку “It is impossible”. Написать тесты для кода"
      ]
    },
    {
      "cell_type": "code",
      "execution_count": null,
      "metadata": {
        "id": "3YPjEXxhX_YT"
      },
      "outputs": [],
      "source": [
        "def pyramid(number):\n",
        "  k = 1\n",
        "  num = 0\n",
        "  while num <= number:\n",
        "    num += k ** 2\n",
        "    if num < number:\n",
        "      k += 1\n",
        "    elif num == number:\n",
        "      return k\n",
        "    else:\n",
        "      return 'It is impossible'"
      ]
    },
    {
      "cell_type": "markdown",
      "source": [
        "#Тесты"
      ],
      "metadata": {
        "id": "X1hcSu5-0ld6"
      }
    },
    {
      "cell_type": "code",
      "source": [
        "class TestPyramid(unittest.TestCase):\n",
        "  def test_pyramid_one(self):\n",
        "    self.assertEqual(pyramid(321421412), 'It is impossible')\n",
        "\n",
        "  def test_pyramid_two(self):\n",
        "    self.assertEqual(pyramid(1), 1)\n",
        "\n",
        "  def test_pyramid_three(self):\n",
        "    self.assertEqual(pyramid(30), 4)\n",
        "\n",
        "  def test_pyramid_four(self):\n",
        "    self.assertEqual(pyramid(1238321), 'It is impossible')\n",
        "\n",
        "  def test_pyramid_five(self):\n",
        "    self.assertEqual(pyramid(91), 6)\n",
        "\n",
        "unittest.main(argv=[''], verbosity=2, exit=False)"
      ],
      "metadata": {
        "colab": {
          "base_uri": "https://localhost:8080/"
        },
        "id": "hElKJ32E0tSB",
        "outputId": "9e895b33-bf73-46d1-8bce-08b3154d69a0"
      },
      "execution_count": null,
      "outputs": [
        {
          "output_type": "stream",
          "name": "stderr",
          "text": [
            "test_balance_five (__main__.TestBalanceNum.test_balance_five) ... ok\n",
            "test_balance_four (__main__.TestBalanceNum.test_balance_four) ... ok\n",
            "test_balance_one (__main__.TestBalanceNum.test_balance_one) ... ok\n",
            "test_balance_three (__main__.TestBalanceNum.test_balance_three) ... ok\n",
            "test_balance_two (__main__.TestBalanceNum.test_balance_two) ... ok\n",
            "test_bitdivision_five (__main__.TestBitDivision.test_bitdivision_five) ... ok\n",
            "test_bitdivision_four (__main__.TestBitDivision.test_bitdivision_four) ... ok\n",
            "test_bitdivision_one (__main__.TestBitDivision.test_bitdivision_one) ... ok\n",
            "test_bitdivision_three (__main__.TestBitDivision.test_bitdivision_three) ... ok\n",
            "test_bitdivision_two (__main__.TestBitDivision.test_bitdivision_two) ... ok\n",
            "test_sentence_five (__main__.TestCheckSentence.test_sentence_five) ... ok\n",
            "test_sentence_four (__main__.TestCheckSentence.test_sentence_four) ... ok\n",
            "test_sentence_one (__main__.TestCheckSentence.test_sentence_one) ... ok\n",
            "test_sentence_three (__main__.TestCheckSentence.test_sentence_three) ... ok\n",
            "test_sentence_two (__main__.TestCheckSentence.test_sentence_two) ... ok\n",
            "test_checkvowels_four (__main__.TestCheckVowels.test_checkvowels_four) ... ok\n",
            "test_checkvowels_one (__main__.TestCheckVowels.test_checkvowels_one) ... ok\n",
            "test_checkvowels_three (__main__.TestCheckVowels.test_checkvowels_three) ... ok\n",
            "test_checkvowels_two (__main__.TestCheckVowels.test_checkvowels_two) ... ok\n",
            "test_mse_four (__main__.TestMSE.test_mse_four) ... ok\n",
            "test_mse_one (__main__.TestMSE.test_mse_one) ... ok\n",
            "test_mse_three (__main__.TestMSE.test_mse_three) ... ok\n",
            "test_mse_two (__main__.TestMSE.test_mse_two) ... ok\n",
            "test_magic_five (__main__.TestMagic.test_magic_five) ... ok\n",
            "test_magic_four (__main__.TestMagic.test_magic_four) ... ok\n",
            "test_magic_one (__main__.TestMagic.test_magic_one) ... ok\n",
            "test_magic_three (__main__.TestMagic.test_magic_three) ... ok\n",
            "test_magic_two (__main__.TestMagic.test_magic_two) ... ok\n",
            "test_pyramid_five (__main__.TestPyramid.test_pyramid_five) ... ok\n",
            "test_pyramid_four (__main__.TestPyramid.test_pyramid_four) ... ok\n",
            "test_pyramid_one (__main__.TestPyramid.test_pyramid_one) ... ok\n",
            "test_pyramid_three (__main__.TestPyramid.test_pyramid_three) ... ok\n",
            "test_pyramid_two (__main__.TestPyramid.test_pyramid_two) ... ok\n",
            "test_simple_five (__main__.TestSimple.test_simple_five) ... ok\n",
            "test_simple_four (__main__.TestSimple.test_simple_four) ... ok\n",
            "test_simple_one (__main__.TestSimple.test_simple_one) ... ok\n",
            "test_simple_three (__main__.TestSimple.test_simple_three) ... ok\n",
            "test_simple_two (__main__.TestSimple.test_simple_two) ... ok\n",
            "\n",
            "----------------------------------------------------------------------\n",
            "Ran 38 tests in 0.104s\n",
            "\n",
            "OK\n"
          ]
        },
        {
          "output_type": "execute_result",
          "data": {
            "text/plain": [
              "<unittest.main.TestProgram at 0x7dfc03abf390>"
            ]
          },
          "metadata": {},
          "execution_count": 75
        }
      ]
    },
    {
      "cell_type": "markdown",
      "metadata": {
        "id": "KeKgmIdAQMEJ"
      },
      "source": [
        "# Задача 8\n",
        "Функция принимает на вход положительное число и определяет является ли оно сбалансированным, т.е. сумма цифр до средних равна сумме цифр после. Средними в случае нечетного числа цифр считать одну цифру, в случае четного - две средних. Написать тесты для кода"
      ]
    },
    {
      "cell_type": "code",
      "execution_count": null,
      "metadata": {
        "id": "gMAAqtqlQrZt"
      },
      "outputs": [],
      "source": [
        "def balance(n):\n",
        "  x = [int(a) for a in str(n)]\n",
        "  first_num = 0\n",
        "  second_num = 0\n",
        "  if len(x) % 2 == 0:\n",
        "    for i in range(int(len(x)/2) - 1):\n",
        "      first_num += x[i]\n",
        "    for i in range(int(len(x)/2) + 1, len(x)):\n",
        "      second_num += x[i]\n",
        "  else:\n",
        "    for i in range(int(len(x)//2)):\n",
        "      first_num += x[i]\n",
        "    for i in range(int(len(x)//2 + 1), len(x)):\n",
        "      second_num += x[i]\n",
        "  return first_num == second_num"
      ]
    },
    {
      "cell_type": "markdown",
      "source": [
        "# Тесты"
      ],
      "metadata": {
        "id": "wgqagAD33COH"
      }
    },
    {
      "cell_type": "code",
      "source": [
        "class TestBalanceNum(unittest.TestCase):\n",
        "  def test_balance_one(self):\n",
        "    self.assertEqual(balance(194582), True)\n",
        "\n",
        "  def test_balance_two(self):\n",
        "    self.assertEqual(balance(113344), False)\n",
        "\n",
        "  def test_balance_three(self):\n",
        "    self.assertEqual(balance(9), True)\n",
        "\n",
        "  def test_balance_four(self):\n",
        "    self.assertEqual(balance(1238321), True)\n",
        "\n",
        "  def test_balance_five(self):\n",
        "    self.assertEqual(balance(3456789), False)\n",
        "\n",
        "unittest.main(argv=[''], verbosity=2, exit=False)"
      ],
      "metadata": {
        "colab": {
          "base_uri": "https://localhost:8080/"
        },
        "id": "-muU3NM73FQk",
        "outputId": "10e520c0-9430-493c-dfb3-ed774b511d99"
      },
      "execution_count": null,
      "outputs": [
        {
          "output_type": "stream",
          "name": "stderr",
          "text": [
            "test_balance_five (__main__.TestBalanceNum.test_balance_five) ... ok\n",
            "test_balance_four (__main__.TestBalanceNum.test_balance_four) ... ok\n",
            "test_balance_one (__main__.TestBalanceNum.test_balance_one) ... ok\n",
            "test_balance_three (__main__.TestBalanceNum.test_balance_three) ... ok\n",
            "test_balance_two (__main__.TestBalanceNum.test_balance_two) ... ok\n",
            "test_bitdivision_five (__main__.TestBitDivision.test_bitdivision_five) ... ok\n",
            "test_bitdivision_four (__main__.TestBitDivision.test_bitdivision_four) ... ok\n",
            "test_bitdivision_one (__main__.TestBitDivision.test_bitdivision_one) ... ok\n",
            "test_bitdivision_three (__main__.TestBitDivision.test_bitdivision_three) ... ok\n",
            "test_bitdivision_two (__main__.TestBitDivision.test_bitdivision_two) ... ok\n",
            "test_sentence_five (__main__.TestCheckSentence.test_sentence_five) ... ok\n",
            "test_sentence_four (__main__.TestCheckSentence.test_sentence_four) ... ok\n",
            "test_sentence_one (__main__.TestCheckSentence.test_sentence_one) ... ok\n",
            "test_sentence_three (__main__.TestCheckSentence.test_sentence_three) ... ok\n",
            "test_sentence_two (__main__.TestCheckSentence.test_sentence_two) ... ok\n",
            "test_checkvowels_four (__main__.TestCheckVowels.test_checkvowels_four) ... ok\n",
            "test_checkvowels_one (__main__.TestCheckVowels.test_checkvowels_one) ... ok\n",
            "test_checkvowels_three (__main__.TestCheckVowels.test_checkvowels_three) ... ok\n",
            "test_checkvowels_two (__main__.TestCheckVowels.test_checkvowels_two) ... ok\n",
            "test_mse_four (__main__.TestMSE.test_mse_four) ... ok\n",
            "test_mse_one (__main__.TestMSE.test_mse_one) ... ok\n",
            "test_mse_three (__main__.TestMSE.test_mse_three) ... ok\n",
            "test_mse_two (__main__.TestMSE.test_mse_two) ... ok\n",
            "test_magic_five (__main__.TestMagic.test_magic_five) ... ok\n",
            "test_magic_four (__main__.TestMagic.test_magic_four) ... ok\n",
            "test_magic_one (__main__.TestMagic.test_magic_one) ... ok\n",
            "test_magic_three (__main__.TestMagic.test_magic_three) ... ok\n",
            "test_magic_two (__main__.TestMagic.test_magic_two) ... ok\n",
            "test_pyramid_five (__main__.TestPyramid.test_pyramid_five) ... ok\n",
            "test_pyramid_four (__main__.TestPyramid.test_pyramid_four) ... ok\n",
            "test_pyramid_one (__main__.TestPyramid.test_pyramid_one) ... ok\n",
            "test_pyramid_three (__main__.TestPyramid.test_pyramid_three) ... ok\n",
            "test_pyramid_two (__main__.TestPyramid.test_pyramid_two) ... ok\n",
            "test_simple_five (__main__.TestSimple.test_simple_five) ... ok\n",
            "test_simple_four (__main__.TestSimple.test_simple_four) ... ok\n",
            "test_simple_one (__main__.TestSimple.test_simple_one) ... ok\n",
            "test_simple_three (__main__.TestSimple.test_simple_three) ... ok\n",
            "test_simple_two (__main__.TestSimple.test_simple_two) ... ok\n",
            "\n",
            "----------------------------------------------------------------------\n",
            "Ran 38 tests in 0.116s\n",
            "\n",
            "OK\n"
          ]
        },
        {
          "output_type": "execute_result",
          "data": {
            "text/plain": [
              "<unittest.main.TestProgram at 0x7dfc03a06590>"
            ]
          },
          "metadata": {},
          "execution_count": 77
        }
      ]
    }
  ],
  "metadata": {
    "colab": {
      "provenance": [],
      "include_colab_link": true
    },
    "kernelspec": {
      "display_name": "Python 3",
      "name": "python3"
    },
    "language_info": {
      "name": "python"
    }
  },
  "nbformat": 4,
  "nbformat_minor": 0
}